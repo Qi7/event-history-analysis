{
  "cells": [
    {
      "cell_type": "markdown",
      "metadata": {},
      "source": [
        "---\n",
        "title: \"Untitled\"\n",
        "format: \n",
        "    html:\n",
        "        number-sections: true\n",
        "---"
      ],
      "id": "748124a5"
    },
    {
      "cell_type": "code",
      "metadata": {},
      "source": [
        "print(\"Hello World\")"
      ],
      "id": "aba3b9f2",
      "execution_count": null,
      "outputs": []
    },
    {
      "cell_type": "code",
      "metadata": {},
      "source": [
        "print(\"Hello\")"
      ],
      "id": "48abf13e",
      "execution_count": null,
      "outputs": []
    }
  ],
  "metadata": {
    "kernelspec": {
      "name": "model",
      "language": "python",
      "display_name": "model",
      "path": "/Users/wangqi/Library/Jupyter/kernels/model"
    }
  },
  "nbformat": 4,
  "nbformat_minor": 5
}